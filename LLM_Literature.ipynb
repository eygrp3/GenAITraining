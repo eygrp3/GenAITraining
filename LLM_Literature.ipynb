{
  "cells": [
    {
      "cell_type": "code",
      "source": [
        "\n",
        "!pip install -q langchain-openai"
      ],
      "metadata": {
        "id": "eut12A9xIXNj"
      },
      "execution_count": null,
      "outputs": []
    },
    {
      "cell_type": "code",
      "execution_count": null,
      "metadata": {
        "id": "zwFnJsE6vjf8"
      },
      "outputs": [],
      "source": [
        "API_KEY=\"9a6a43f55cef45248997ac28aaf5f3da\""
      ]
    },
    {
      "cell_type": "code",
      "source": [
        "\n",
        "from langchain_openai import AzureChatOpenAI\n",
        "model = AzureChatOpenAI(\n",
        "        azure_endpoint=\"https://eygroup-0003-new.openai.azure.com/\",\n",
        "        azure_deployment=\"gpt-35-turbo-16k\",\n",
        "        openai_api_version=\"2024-06-01\",\n",
        "        api_key=API_KEY\n",
        "    )"
      ],
      "metadata": {
        "id": "TzO-cG60OY6B"
      },
      "execution_count": null,
      "outputs": []
    },
    {
      "cell_type": "code",
      "source": [
        "\n",
        "res = model.invoke(\"Hi! Tell me a joke about noodles.\")"
      ],
      "metadata": {
        "id": "KcNjhgDtRo7m"
      },
      "execution_count": null,
      "outputs": []
    },
    {
      "cell_type": "code",
      "source": [
        "\n",
        "res.content"
      ],
      "metadata": {
        "id": "qYLIsLC_RsVV",
        "outputId": "03378c6e-cc45-4b95-c223-84c0d023b12c",
        "colab": {
          "base_uri": "https://localhost:8080/",
          "height": 35
        }
      },
      "execution_count": null,
      "outputs": [
        {
          "output_type": "execute_result",
          "data": {
            "text/plain": [
              "\"Sure, here's a noodle joke for you:\\n\\nWhy did the noodle go to the gym?\\n\\nBecause it wanted to get shredded!\""
            ],
            "application/vnd.google.colaboratory.intrinsic+json": {
              "type": "string"
            }
          },
          "metadata": {},
          "execution_count": 24
        }
      ]
    },
    {
      "cell_type": "code",
      "source": [
        "\n",
        "!pip install langchain-community langchain-core"
      ],
      "metadata": {
        "id": "w6UDv1xFRuK9",
        "outputId": "f2facc39-5418-4256-b1b8-2e1f8d5679b1",
        "colab": {
          "base_uri": "https://localhost:8080/"
        }
      },
      "execution_count": null,
      "outputs": [
        {
          "output_type": "stream",
          "name": "stdout",
          "text": [
            "Requirement already satisfied: langchain-community in /usr/local/lib/python3.10/dist-packages (0.2.16)\n",
            "Requirement already satisfied: langchain-core in /usr/local/lib/python3.10/dist-packages (0.2.39)\n",
            "Requirement already satisfied: PyYAML>=5.3 in /usr/local/lib/python3.10/dist-packages (from langchain-community) (6.0.2)\n",
            "Requirement already satisfied: SQLAlchemy<3,>=1.4 in /usr/local/lib/python3.10/dist-packages (from langchain-community) (2.0.34)\n",
            "Requirement already satisfied: aiohttp<4.0.0,>=3.8.3 in /usr/local/lib/python3.10/dist-packages (from langchain-community) (3.10.5)\n",
            "Requirement already satisfied: dataclasses-json<0.7,>=0.5.7 in /usr/local/lib/python3.10/dist-packages (from langchain-community) (0.6.7)\n",
            "Requirement already satisfied: langchain<0.3.0,>=0.2.16 in /usr/local/lib/python3.10/dist-packages (from langchain-community) (0.2.16)\n",
            "Requirement already satisfied: langsmith<0.2.0,>=0.1.0 in /usr/local/lib/python3.10/dist-packages (from langchain-community) (0.1.120)\n",
            "Requirement already satisfied: numpy<2,>=1 in /usr/local/lib/python3.10/dist-packages (from langchain-community) (1.26.4)\n",
            "Requirement already satisfied: requests<3,>=2 in /usr/local/lib/python3.10/dist-packages (from langchain-community) (2.32.3)\n",
            "Requirement already satisfied: tenacity!=8.4.0,<9.0.0,>=8.1.0 in /usr/local/lib/python3.10/dist-packages (from langchain-community) (8.5.0)\n",
            "Requirement already satisfied: jsonpatch<2.0,>=1.33 in /usr/local/lib/python3.10/dist-packages (from langchain-core) (1.33)\n",
            "Requirement already satisfied: packaging<25,>=23.2 in /usr/local/lib/python3.10/dist-packages (from langchain-core) (24.1)\n",
            "Requirement already satisfied: pydantic<3,>=1 in /usr/local/lib/python3.10/dist-packages (from langchain-core) (2.9.1)\n",
            "Requirement already satisfied: typing-extensions>=4.7 in /usr/local/lib/python3.10/dist-packages (from langchain-core) (4.12.2)\n",
            "Requirement already satisfied: aiohappyeyeballs>=2.3.0 in /usr/local/lib/python3.10/dist-packages (from aiohttp<4.0.0,>=3.8.3->langchain-community) (2.4.0)\n",
            "Requirement already satisfied: aiosignal>=1.1.2 in /usr/local/lib/python3.10/dist-packages (from aiohttp<4.0.0,>=3.8.3->langchain-community) (1.3.1)\n",
            "Requirement already satisfied: attrs>=17.3.0 in /usr/local/lib/python3.10/dist-packages (from aiohttp<4.0.0,>=3.8.3->langchain-community) (24.2.0)\n",
            "Requirement already satisfied: frozenlist>=1.1.1 in /usr/local/lib/python3.10/dist-packages (from aiohttp<4.0.0,>=3.8.3->langchain-community) (1.4.1)\n",
            "Requirement already satisfied: multidict<7.0,>=4.5 in /usr/local/lib/python3.10/dist-packages (from aiohttp<4.0.0,>=3.8.3->langchain-community) (6.1.0)\n",
            "Requirement already satisfied: yarl<2.0,>=1.0 in /usr/local/lib/python3.10/dist-packages (from aiohttp<4.0.0,>=3.8.3->langchain-community) (1.11.1)\n",
            "Requirement already satisfied: async-timeout<5.0,>=4.0 in /usr/local/lib/python3.10/dist-packages (from aiohttp<4.0.0,>=3.8.3->langchain-community) (4.0.3)\n",
            "Requirement already satisfied: marshmallow<4.0.0,>=3.18.0 in /usr/local/lib/python3.10/dist-packages (from dataclasses-json<0.7,>=0.5.7->langchain-community) (3.22.0)\n",
            "Requirement already satisfied: typing-inspect<1,>=0.4.0 in /usr/local/lib/python3.10/dist-packages (from dataclasses-json<0.7,>=0.5.7->langchain-community) (0.9.0)\n",
            "Requirement already satisfied: jsonpointer>=1.9 in /usr/local/lib/python3.10/dist-packages (from jsonpatch<2.0,>=1.33->langchain-core) (3.0.0)\n",
            "Requirement already satisfied: langchain-text-splitters<0.3.0,>=0.2.0 in /usr/local/lib/python3.10/dist-packages (from langchain<0.3.0,>=0.2.16->langchain-community) (0.2.4)\n",
            "Requirement already satisfied: httpx<1,>=0.23.0 in /usr/local/lib/python3.10/dist-packages (from langsmith<0.2.0,>=0.1.0->langchain-community) (0.27.2)\n",
            "Requirement already satisfied: orjson<4.0.0,>=3.9.14 in /usr/local/lib/python3.10/dist-packages (from langsmith<0.2.0,>=0.1.0->langchain-community) (3.10.7)\n",
            "Requirement already satisfied: annotated-types>=0.6.0 in /usr/local/lib/python3.10/dist-packages (from pydantic<3,>=1->langchain-core) (0.7.0)\n",
            "Requirement already satisfied: pydantic-core==2.23.3 in /usr/local/lib/python3.10/dist-packages (from pydantic<3,>=1->langchain-core) (2.23.3)\n",
            "Requirement already satisfied: charset-normalizer<4,>=2 in /usr/local/lib/python3.10/dist-packages (from requests<3,>=2->langchain-community) (3.3.2)\n",
            "Requirement already satisfied: idna<4,>=2.5 in /usr/local/lib/python3.10/dist-packages (from requests<3,>=2->langchain-community) (3.8)\n",
            "Requirement already satisfied: urllib3<3,>=1.21.1 in /usr/local/lib/python3.10/dist-packages (from requests<3,>=2->langchain-community) (2.0.7)\n",
            "Requirement already satisfied: certifi>=2017.4.17 in /usr/local/lib/python3.10/dist-packages (from requests<3,>=2->langchain-community) (2024.8.30)\n",
            "Requirement already satisfied: greenlet!=0.4.17 in /usr/local/lib/python3.10/dist-packages (from SQLAlchemy<3,>=1.4->langchain-community) (3.1.0)\n",
            "Requirement already satisfied: anyio in /usr/local/lib/python3.10/dist-packages (from httpx<1,>=0.23.0->langsmith<0.2.0,>=0.1.0->langchain-community) (3.7.1)\n",
            "Requirement already satisfied: httpcore==1.* in /usr/local/lib/python3.10/dist-packages (from httpx<1,>=0.23.0->langsmith<0.2.0,>=0.1.0->langchain-community) (1.0.5)\n",
            "Requirement already satisfied: sniffio in /usr/local/lib/python3.10/dist-packages (from httpx<1,>=0.23.0->langsmith<0.2.0,>=0.1.0->langchain-community) (1.3.1)\n",
            "Requirement already satisfied: h11<0.15,>=0.13 in /usr/local/lib/python3.10/dist-packages (from httpcore==1.*->httpx<1,>=0.23.0->langsmith<0.2.0,>=0.1.0->langchain-community) (0.14.0)\n",
            "Requirement already satisfied: mypy-extensions>=0.3.0 in /usr/local/lib/python3.10/dist-packages (from typing-inspect<1,>=0.4.0->dataclasses-json<0.7,>=0.5.7->langchain-community) (1.0.0)\n",
            "Requirement already satisfied: exceptiongroup in /usr/local/lib/python3.10/dist-packages (from anyio->httpx<1,>=0.23.0->langsmith<0.2.0,>=0.1.0->langchain-community) (1.2.2)\n"
          ]
        }
      ]
    },
    {
      "cell_type": "code",
      "source": [
        "!pip install -qU langchain_community pypdf"
      ],
      "metadata": {
        "id": "B9lRQFBzR3R1"
      },
      "execution_count": null,
      "outputs": []
    },
    {
      "cell_type": "code",
      "source": [
        "from langchain_community.document_loaders import PyPDFLoader"
      ],
      "metadata": {
        "id": "CcWJ8ZzzR_DF"
      },
      "execution_count": null,
      "outputs": []
    },
    {
      "cell_type": "code",
      "source": [
        "\n",
        "!ls"
      ],
      "metadata": {
        "id": "JMCXZE6QSGQF",
        "outputId": "95c1a0fc-f0a6-4fc5-88f8-ac7a8684d4b6",
        "colab": {
          "base_uri": "https://localhost:8080/"
        }
      },
      "execution_count": null,
      "outputs": [
        {
          "output_type": "stream",
          "name": "stdout",
          "text": [
            "'Mantis shrimp..pdf'   sample_data\n"
          ]
        }
      ]
    },
    {
      "cell_type": "code",
      "source": [
        "pdf_file = \"/content/sample_data/RAG/LiteraryMovements.pdf\"\n",
        "loader = PyPDFLoader(pdf_file)\n",
        "\n",
        "docs = loader.load()"
      ],
      "metadata": {
        "id": "AHd7ysFEUNjp"
      },
      "execution_count": null,
      "outputs": []
    },
    {
      "cell_type": "code",
      "source": [
        "\n",
        "print(\"len:\",len(docs),\"\\n\",\"content:\",docs[0].page_content)"
      ],
      "metadata": {
        "id": "sVziUi8Lpcg3",
        "outputId": "2a48b713-a7f1-497f-e848-3e61dd61164e",
        "colab": {
          "base_uri": "https://localhost:8080/"
        }
      },
      "execution_count": null,
      "outputs": [
        {
          "output_type": "stream",
          "name": "stdout",
          "text": [
            "len: 2 \n",
            " content: Literary Movements  \n",
            "Literary movements are styles or trends in literature that share common characteristics \n",
            "and themes, often reflecting the social and political climates of their times. Here are a few \n",
            "significant literary movements:  \n",
            "1. Classicism  (5th century BC - 18th century): Emphasized clarity, order, balance, and \n",
            "harmony. Notable works include those by Homer, Virgil, and during the \n",
            "Enlightenment, writers like Voltaire.  \n",
            "2. Romanticism  (late 18th century - mid-19th century): Focused on emotion, nature, \n",
            "individualism, and the sublime. Key figures include William Wordsworth, Mary \n",
            "Shelley, and Edgar Allan Poe.  \n",
            "3. Realism  (mid-19th century - early 20th century): Sought to depict everyday life and \n",
            "society without romanticization. Authors like Gustave Flaubert, Leo Tolstoy, and \n",
            "Mark Twain were prominent.  \n",
            "4. Modernism  (late 19th century - mid-20th century): Characterized by a break with \n",
            "traditional forms and techniques, exploring fragmented narratives and stream of \n",
            "consciousness. Notable modernists include James Joyce, Virginia Woolf, and T.S. \n",
            "Eliot.  \n",
            "5. Postmodernism  (mid-20th century - present): Marked by a skepticism of grand \n",
            "narratives and an embrace of irony, pastiche, and metafiction. Authors like Thomas \n",
            "Pynchon, Margaret Atwood, and David Foster Wallace exemplify this movement.  \n",
            "Notable Authors and Their Impact  \n",
            "Throughout history, certain authors have had a profound impact on literature and society:  \n",
            "• William Shakespeare  (1564-1616): Often regarded as the greatest playwright in the \n",
            "English language, Shakespeare's plays, such as \"Hamlet,\" \"Romeo and Juliet,\" and \n",
            "\"Macbeth,\" continue to be studied and performed for their exploration of human \n",
            "nature and the complexity of thei r characters.  \n",
            "• Jane Austen  (1775-1817): Known for her novels like \"Pride and Prejudice\" and \n",
            "\"Sense and Sensibility,\" Austen's work provides insights into the lives of women in \n",
            "the early 19th century and critiques social class and marriage.  \n",
            "• Charles Dickens  (1812-1870): His novels, including \"Great Expectations\" and \"A Tale \n",
            "of Two Cities,\" highlighted the struggles of the poor and criticized social injustices \n",
            "in Victorian England.  \n",
            "• Gabriel García Márquez  (1927-2014): A Nobel laureate and pioneer of magical \n",
            "realism, his novel \"One Hundred Years of Solitude\" blends the magical and the real \n",
            "to explore Latin American history and culture.  \n",
            "Impact of Literature on Society  \n",
            "Literature has the power to influence society by shaping opinions, reflecting societal \n",
            "values, and sparking change. For example:  \n"
          ]
        }
      ]
    },
    {
      "cell_type": "code",
      "source": [
        "!pip install -qU langchain-openai"
      ],
      "metadata": {
        "id": "LNsssLDUUT_5"
      },
      "execution_count": null,
      "outputs": []
    },
    {
      "cell_type": "code",
      "source": [
        "AZURE_OPENAI_ENDPOINT = \"https://eygroup-0003-new.openai.azure.com/\"\n",
        "AZURE_OPENAI_EMBEDDINGS_ENDPOINT=\"https://eygroup-0003-new.openai.azure.com/openai/deployments/text-embedding-ada-002/embeddings?api-version=2023-05-15\"\n",
        "AZURE_OPENAI_DEPLOYMENT_NAME = \"gpt-35-turbo-16k\"\n",
        "AZURE_OPENAI_API_VERSION = \"2024-06-01\"\n",
        "AZURE_OPENAI_API_KEY = API_KEY"
      ],
      "metadata": {
        "id": "TLNJx3OxUm-J"
      },
      "execution_count": null,
      "outputs": []
    },
    {
      "cell_type": "code",
      "source": [
        "import os\n",
        "os.environ[\"AZURE_OPENAI_ENDPOINT\"] = AZURE_OPENAI_ENDPOINT\n",
        "os.environ[\"AZURE_OPENAI_DEPLOYMENT_NAME\"] = AZURE_OPENAI_DEPLOYMENT_NAME\n",
        "os.environ[\"AZURE_OPENAI_API_VERSION\"] = AZURE_OPENAI_API_VERSION\n",
        "os.environ[\"AZURE_OPENAI_EMBEDDINGS_ENDPOINT\"] = AZURE_OPENAI_EMBEDDINGS_ENDPOINT\n",
        "os.environ[\"AZURE_OPENAI_API_KEY\"] = AZURE_OPENAI_API_KEY\n"
      ],
      "metadata": {
        "id": "99LlvWuDcFV6"
      },
      "execution_count": null,
      "outputs": []
    },
    {
      "cell_type": "code",
      "source": [
        "\n",
        "from langchain_openai import AzureChatOpenAI"
      ],
      "metadata": {
        "id": "n2rIkBvocs0K"
      },
      "execution_count": null,
      "outputs": []
    },
    {
      "cell_type": "code",
      "source": [
        "model = AzureChatOpenAI(\n",
        "    azure_endpoint = os.environ[\"AZURE_OPENAI_ENDPOINT\"],\n",
        "    azure_deployment = os.environ[\"AZURE_OPENAI_DEPLOYMENT_NAME\"],\n",
        "    openai_api_version = os.environ[\"AZURE_OPENAI_API_VERSION\"]\n",
        ")"
      ],
      "metadata": {
        "id": "7UQj9jXxcyth"
      },
      "execution_count": null,
      "outputs": []
    },
    {
      "cell_type": "code",
      "source": [
        "!pip install -qU langchain_chroma"
      ],
      "metadata": {
        "id": "5ny3Allic3kw"
      },
      "execution_count": null,
      "outputs": []
    },
    {
      "cell_type": "code",
      "source": [
        "from langchain_chroma import Chroma\n",
        "from langchain_openai import AzureOpenAIEmbeddings\n",
        "from langchain_text_splitters import RecursiveCharacterTextSplitter"
      ],
      "metadata": {
        "id": "Aj3DqWVydBfp"
      },
      "execution_count": null,
      "outputs": []
    },
    {
      "cell_type": "code",
      "source": [
        "text_splitter = RecursiveCharacterTextSplitter(chunk_size=1000, chunk_overlap=200)\n",
        "splits = text_splitter.split_documents(docs)\n",
        "print(splits)\n",
        "embeddings = AzureOpenAIEmbeddings(azure_endpoint=os.environ[\"AZURE_OPENAI_EMBEDDINGS_ENDPOINT\"])\n",
        "\n",
        "vectorstore = Chroma.from_documents(documents=splits, embedding=embeddings)\n",
        "\n",
        "retriever = vectorstore.as_retriever()"
      ],
      "metadata": {
        "id": "B4CUCdQpdL65",
        "outputId": "2dc87ce8-7bb9-40de-eb58-b888b239031c",
        "colab": {
          "base_uri": "https://localhost:8080/"
        }
      },
      "execution_count": null,
      "outputs": [
        {
          "output_type": "stream",
          "name": "stdout",
          "text": [
            "[Document(metadata={'source': '/content/sample_data/RAG/LiteraryMovements.pdf', 'page': 0}, page_content='Literary Movements  \\nLiterary movements are styles or trends in literature that share common characteristics \\nand themes, often reflecting the social and political climates of their times. Here are a few \\nsignificant literary movements:  \\n1. Classicism  (5th century BC - 18th century): Emphasized clarity, order, balance, and \\nharmony. Notable works include those by Homer, Virgil, and during the \\nEnlightenment, writers like Voltaire.  \\n2. Romanticism  (late 18th century - mid-19th century): Focused on emotion, nature, \\nindividualism, and the sublime. Key figures include William Wordsworth, Mary \\nShelley, and Edgar Allan Poe.  \\n3. Realism  (mid-19th century - early 20th century): Sought to depict everyday life and \\nsociety without romanticization. Authors like Gustave Flaubert, Leo Tolstoy, and \\nMark Twain were prominent.  \\n4. Modernism  (late 19th century - mid-20th century): Characterized by a break with \\ntraditional forms and techniques, exploring fragmented narratives and stream of'), Document(metadata={'source': '/content/sample_data/RAG/LiteraryMovements.pdf', 'page': 0}, page_content='Mark Twain were prominent.  \\n4. Modernism  (late 19th century - mid-20th century): Characterized by a break with \\ntraditional forms and techniques, exploring fragmented narratives and stream of \\nconsciousness. Notable modernists include James Joyce, Virginia Woolf, and T.S. \\nEliot.  \\n5. Postmodernism  (mid-20th century - present): Marked by a skepticism of grand \\nnarratives and an embrace of irony, pastiche, and metafiction. Authors like Thomas \\nPynchon, Margaret Atwood, and David Foster Wallace exemplify this movement.  \\nNotable Authors and Their Impact  \\nThroughout history, certain authors have had a profound impact on literature and society:  \\n• William Shakespeare  (1564-1616): Often regarded as the greatest playwright in the \\nEnglish language, Shakespeare\\'s plays, such as \"Hamlet,\" \"Romeo and Juliet,\" and \\n\"Macbeth,\" continue to be studied and performed for their exploration of human \\nnature and the complexity of thei r characters.'), Document(metadata={'source': '/content/sample_data/RAG/LiteraryMovements.pdf', 'page': 0}, page_content='\"Macbeth,\" continue to be studied and performed for their exploration of human \\nnature and the complexity of thei r characters.  \\n• Jane Austen  (1775-1817): Known for her novels like \"Pride and Prejudice\" and \\n\"Sense and Sensibility,\" Austen\\'s work provides insights into the lives of women in \\nthe early 19th century and critiques social class and marriage.  \\n• Charles Dickens  (1812-1870): His novels, including \"Great Expectations\" and \"A Tale \\nof Two Cities,\" highlighted the struggles of the poor and criticized social injustices \\nin Victorian England.  \\n• Gabriel García Márquez  (1927-2014): A Nobel laureate and pioneer of magical \\nrealism, his novel \"One Hundred Years of Solitude\" blends the magical and the real \\nto explore Latin American history and culture.  \\nImpact of Literature on Society  \\nLiterature has the power to influence society by shaping opinions, reflecting societal \\nvalues, and sparking change. For example:'), Document(metadata={'source': '/content/sample_data/RAG/LiteraryMovements.pdf', 'page': 1}, page_content='• Harriet Beecher Stowe\\'s  \"Uncle Tom\\'s Cabin\" played a role in changing public \\nopinion about slavery in the United States.  \\n• George Orwell\\'s  \"1984\" and \"Animal Farm\" are critical examinations of \\ntotalitarianism and have been influential in discussions about government and \\nindividual rights.  \\n• To Kill a Mockingbird  by Harper Lee has been instrumental in conversations about \\nracial injustice and morality.  \\nLiterature also serves as a record of human experience, preserving the voices and stories \\nof those who might otherwise be forgotten. It connects us across time and space, offering \\na window into different worlds and perspectives.')]\n"
          ]
        }
      ]
    },
    {
      "cell_type": "code",
      "source": [
        "print(\"len:\",len(docs),\"\\n\",\"content:\",docs[0].page_content)"
      ],
      "metadata": {
        "id": "VVx8w08qojLR",
        "outputId": "0d67e86c-130a-4e5d-ed3c-bc65419af553",
        "colab": {
          "base_uri": "https://localhost:8080/"
        }
      },
      "execution_count": null,
      "outputs": [
        {
          "output_type": "stream",
          "name": "stdout",
          "text": [
            "len: 2 \n",
            " content: Literary Movements  \n",
            "Literary movements are styles or trends in literature that share common characteristics \n",
            "and themes, often reflecting the social and political climates of their times. Here are a few \n",
            "significant literary movements:  \n",
            "1. Classicism  (5th century BC - 18th century): Emphasized clarity, order, balance, and \n",
            "harmony. Notable works include those by Homer, Virgil, and during the \n",
            "Enlightenment, writers like Voltaire.  \n",
            "2. Romanticism  (late 18th century - mid-19th century): Focused on emotion, nature, \n",
            "individualism, and the sublime. Key figures include William Wordsworth, Mary \n",
            "Shelley, and Edgar Allan Poe.  \n",
            "3. Realism  (mid-19th century - early 20th century): Sought to depict everyday life and \n",
            "society without romanticization. Authors like Gustave Flaubert, Leo Tolstoy, and \n",
            "Mark Twain were prominent.  \n",
            "4. Modernism  (late 19th century - mid-20th century): Characterized by a break with \n",
            "traditional forms and techniques, exploring fragmented narratives and stream of \n",
            "consciousness. Notable modernists include James Joyce, Virginia Woolf, and T.S. \n",
            "Eliot.  \n",
            "5. Postmodernism  (mid-20th century - present): Marked by a skepticism of grand \n",
            "narratives and an embrace of irony, pastiche, and metafiction. Authors like Thomas \n",
            "Pynchon, Margaret Atwood, and David Foster Wallace exemplify this movement.  \n",
            "Notable Authors and Their Impact  \n",
            "Throughout history, certain authors have had a profound impact on literature and society:  \n",
            "• William Shakespeare  (1564-1616): Often regarded as the greatest playwright in the \n",
            "English language, Shakespeare's plays, such as \"Hamlet,\" \"Romeo and Juliet,\" and \n",
            "\"Macbeth,\" continue to be studied and performed for their exploration of human \n",
            "nature and the complexity of thei r characters.  \n",
            "• Jane Austen  (1775-1817): Known for her novels like \"Pride and Prejudice\" and \n",
            "\"Sense and Sensibility,\" Austen's work provides insights into the lives of women in \n",
            "the early 19th century and critiques social class and marriage.  \n",
            "• Charles Dickens  (1812-1870): His novels, including \"Great Expectations\" and \"A Tale \n",
            "of Two Cities,\" highlighted the struggles of the poor and criticized social injustices \n",
            "in Victorian England.  \n",
            "• Gabriel García Márquez  (1927-2014): A Nobel laureate and pioneer of magical \n",
            "realism, his novel \"One Hundred Years of Solitude\" blends the magical and the real \n",
            "to explore Latin American history and culture.  \n",
            "Impact of Literature on Society  \n",
            "Literature has the power to influence society by shaping opinions, reflecting societal \n",
            "values, and sparking change. For example:  \n"
          ]
        }
      ]
    },
    {
      "cell_type": "code",
      "source": [
        "\n",
        "from langchain.chains import create_retrieval_chain\n",
        "from langchain.chains.combine_documents import create_stuff_documents_chain\n",
        "from langchain_core.prompts import ChatPromptTemplate\n",
        "from langchain.chains import create_history_aware_retriever\n",
        "from langchain_core.prompts import MessagesPlaceholder"
      ],
      "metadata": {
        "id": "tbKGOpoGoyjB"
      },
      "execution_count": null,
      "outputs": []
    },
    {
      "cell_type": "code",
      "source": [
        "context_system_prompt = (\n",
        "    \"Literature Companion System\"\n",
        "    \"people find Book Recommendations, \"\n",
        "    \"people find Literary Eras and Movements \"\n",
        "    \"people find Author Profiles\"\n",
        ")"
      ],
      "metadata": {
        "id": "QvqyRdkuqbXH"
      },
      "execution_count": null,
      "outputs": []
    },
    {
      "cell_type": "code",
      "source": [
        "messages = [\n",
        "    (\"system\", context_system_prompt),\n",
        "    MessagesPlaceholder(\"chat_history\"),\n",
        "    (\"human\", \"{input}\"),\n",
        "]\n",
        "prompt = ChatPromptTemplate.from_messages(messages)"
      ],
      "metadata": {
        "id": "n_fQyg25sFBj"
      },
      "execution_count": null,
      "outputs": []
    },
    {
      "cell_type": "code",
      "source": [
        "context_retriever = create_history_aware_retriever(\n",
        "    llm=model, retriever=retriever, prompt=prompt\n",
        ")"
      ],
      "metadata": {
        "id": "w2wbPYXOsKk9"
      },
      "execution_count": null,
      "outputs": []
    },
    {
      "cell_type": "code",
      "source": [
        "system_prompt = (\n",
        "    \"You are a literature Companion system\"\n",
        "    \"You love literature literary movements  \"\n",
        "    \"What is your favorite movements ?\"\n",
        "    \"\\n\\n\"\n",
        "   \"{context}\"\n",
        ")"
      ],
      "metadata": {
        "id": "NQ_rzh4ssSkc"
      },
      "execution_count": null,
      "outputs": []
    },
    {
      "cell_type": "code",
      "source": [
        "\n",
        "system_prompt"
      ],
      "metadata": {
        "id": "sgvrLekgtC7V",
        "outputId": "a07cfa0b-b8b9-43d2-d7b3-ed4e70be00b9",
        "colab": {
          "base_uri": "https://localhost:8080/",
          "height": 35
        }
      },
      "execution_count": null,
      "outputs": [
        {
          "output_type": "execute_result",
          "data": {
            "text/plain": [
              "'You are a literature Companion systemYou love literature literary movements  What is your favorite movements ?\\n\\n{context}'"
            ],
            "application/vnd.google.colaboratory.intrinsic+json": {
              "type": "string"
            }
          },
          "metadata": {},
          "execution_count": 116
        }
      ]
    },
    {
      "cell_type": "code",
      "source": [
        "conversation_prompt = ChatPromptTemplate.from_messages(\n",
        "    [\n",
        "        (\"system\", system_prompt),\n",
        "        MessagesPlaceholder(\"chat_history\"),\n",
        "        (\"human\", \"{input}\"),\n",
        "    ]\n",
        ")"
      ],
      "metadata": {
        "id": "53RysqAFtIyE"
      },
      "execution_count": null,
      "outputs": []
    },
    {
      "cell_type": "code",
      "source": [
        "context_chain = create_stuff_documents_chain(\n",
        "    model,\n",
        "    conversation_prompt\n",
        ")"
      ],
      "metadata": {
        "id": "aPtP5eEPtPWV"
      },
      "execution_count": null,
      "outputs": []
    },
    {
      "cell_type": "code",
      "source": [
        "rag_chain = create_retrieval_chain(context_retriever,context_chain)"
      ],
      "metadata": {
        "id": "EyRJ73xqtS8P"
      },
      "execution_count": null,
      "outputs": []
    },
    {
      "cell_type": "code",
      "source": [
        "from langchain_core.chat_history import BaseChatMessageHistory\n",
        "from langchain_community.chat_message_histories import ChatMessageHistory\n",
        "from langchain_core.runnables.history import RunnableWithMessageHistory\n"
      ],
      "metadata": {
        "id": "gKJ6ip4ztWvV"
      },
      "execution_count": null,
      "outputs": []
    },
    {
      "cell_type": "code",
      "source": [
        "store = {}\n",
        "\n",
        "\n",
        "def get_session_history(session_id: str) -> BaseChatMessageHistory:\n",
        "    if session_id not in store:\n",
        "        store[session_id] = ChatMessageHistory()\n",
        "    return store[session_id]\n",
        "\n",
        "\n",
        "conversational_rag_chain = RunnableWithMessageHistory(\n",
        "    rag_chain,\n",
        "    get_session_history,\n",
        "    input_messages_key=\"input\",\n",
        "    history_messages_key=\"chat_history\",\n",
        "    output_messages_key=\"answer\",\n",
        ")"
      ],
      "metadata": {
        "id": "4YoWw0hVtgTD"
      },
      "execution_count": null,
      "outputs": []
    },
    {
      "cell_type": "code",
      "source": [
        "conversational_rag_chain.invoke(\n",
        "    {\"input\": \"What book you recommanad?\"},\n",
        "    config={\n",
        "        \"configurable\": {\"session_id\": \"eygrp3\"}\n",
        "    },\n",
        ")[\"answer\"]"
      ],
      "metadata": {
        "id": "uF-GpzxDtmkR",
        "outputId": "cda19b82-32b1-4f7a-9f4b-6a3111b32b22",
        "colab": {
          "base_uri": "https://localhost:8080/",
          "height": 139
        }
      },
      "execution_count": null,
      "outputs": [
        {
          "output_type": "execute_result",
          "data": {
            "text/plain": [
              "'As an AI, I don\\'t have personal preferences, but I can recommend some widely acclaimed books from different genres:\\n\\n1. Fiction: \"To Kill a Mockingbird\" by Harper Lee - A powerful novel that addresses themes of racial injustice, morality, and compassion.\\n\\n2. Science Fiction: \"1984\" by George Orwell - A dystopian novel that explores the dangers of totalitarianism and the importance of individual freedom.\\n\\n3. Fantasy: \"The Lord of the Rings\" by J.R.R. Tolkien - An epic high fantasy series that takes readers on a journey through a richly imagined world.\\n\\n4. Classic Literature: \"Pride and Prejudice\" by Jane Austen - A witty and insightful novel that examines societal norms, love, and the complexities of human relationships.\\n\\n5. Historical Fiction: \"The Book Thief\" by Markus Zusak - Set during World War II, this novel tells the story of a young girl who finds solace in books and the power of words.\\n\\n6. Non-Fiction: \"Sapiens: A Brief History of Humankind\" by Yuval Noah Harari - A thought-provoking exploration of the history and impact of Homo sapiens on the world.\\n\\nThese are just a few suggestions, and there are countless other amazing books out there. It ultimately depends on your personal interests and preferences.'"
            ],
            "application/vnd.google.colaboratory.intrinsic+json": {
              "type": "string"
            }
          },
          "metadata": {},
          "execution_count": 122
        }
      ]
    },
    {
      "cell_type": "code",
      "source": [
        "\n",
        "store"
      ],
      "metadata": {
        "id": "pvFJrAZAufkz",
        "outputId": "ed0783e8-6ccb-49ad-a73d-b1b7a181efb2",
        "colab": {
          "base_uri": "https://localhost:8080/"
        }
      },
      "execution_count": null,
      "outputs": [
        {
          "output_type": "execute_result",
          "data": {
            "text/plain": [
              "{'eygrp3': InMemoryChatMessageHistory(messages=[HumanMessage(content='What book you recommanad?'), AIMessage(content='As an AI, I don\\'t have personal preferences, but I can recommend some widely acclaimed books from different genres:\\n\\n1. Fiction: \"To Kill a Mockingbird\" by Harper Lee - A powerful novel that addresses themes of racial injustice, morality, and compassion.\\n\\n2. Science Fiction: \"1984\" by George Orwell - A dystopian novel that explores the dangers of totalitarianism and the importance of individual freedom.\\n\\n3. Fantasy: \"The Lord of the Rings\" by J.R.R. Tolkien - An epic high fantasy series that takes readers on a journey through a richly imagined world.\\n\\n4. Classic Literature: \"Pride and Prejudice\" by Jane Austen - A witty and insightful novel that examines societal norms, love, and the complexities of human relationships.\\n\\n5. Historical Fiction: \"The Book Thief\" by Markus Zusak - Set during World War II, this novel tells the story of a young girl who finds solace in books and the power of words.\\n\\n6. Non-Fiction: \"Sapiens: A Brief History of Humankind\" by Yuval Noah Harari - A thought-provoking exploration of the history and impact of Homo sapiens on the world.\\n\\nThese are just a few suggestions, and there are countless other amazing books out there. It ultimately depends on your personal interests and preferences.')]),\n",
              " 'myuniqueid001': InMemoryChatMessageHistory(messages=[HumanMessage(content='Give me recipe to make pav bhaji'), AIMessage(content=\"Sure! Here's a simple recipe to make Pav Bhaji:\\n\\nIngredients:\\n- 2 medium-sized potatoes, boiled and mashed\\n- 1 cup cauliflower, finely chopped\\n- 1 cup carrots, finely chopped\\n- 1 cup green peas\\n- 1 onion, finely chopped\\n- 2 tomatoes, finely chopped\\n- 2-3 cloves of garlic, minced\\n- 1-inch piece of ginger, grated\\n- 2 tablespoons pav bhaji masala\\n- 1 teaspoon red chili powder\\n- 1/2 teaspoon turmeric powder\\n- Salt to taste\\n- Butter for cooking\\n- Fresh coriander leaves, chopped\\n- Pav (buns) for serving\\n- Lemon wedges for garnish\\n\\nInstructions:\\n1. Heat some butter in a pan and add minced garlic and grated ginger. Saute for a minute.\\n2. Add chopped onions and cook until they turn translucent.\\n3. Add chopped tomatoes and cook until they become soft and mushy.\\n4. Add cauliflower, carrots, and green peas. Mix well and cook for 5-7 minutes.\\n5. Add boiled and mashed potatoes to the pan. Mix everything together.\\n6. Add pav bhaji masala, red chili powder, turmeric powder, and salt. Mix well and cook for another 5 minutes.\\n7. Mash the mixture using a potato masher or the back of a spoon until it becomes a smooth consistency.\\n8. Add some water if the mixture is too dry and cook for another 2-3 minutes.\\n9. Add some more butter and chopped coriander leaves. Mix well.\\n10. Heat some butter on a griddle and lightly toast the pav buns on both sides.\\n11. Serve the hot pav bhaji with toasted pav buns, garnished with a dollop of butter and lemon wedges on the side.\\n\\nEnjoy your homemade pav bhaji!\")])}"
            ]
          },
          "metadata": {},
          "execution_count": 125
        }
      ]
    },
    {
      "cell_type": "code",
      "source": [
        "while True:\n",
        "  user_input = input(\"Enter 'q' to quit or anything else to continue: \")\n",
        "  if user_input == 'q':\n",
        "    break\n",
        "  else:\n",
        "    res = conversational_rag_chain.invoke(\n",
        "    {\"input\": user_input},\n",
        "    config={\n",
        "        \"configurable\": {\"session_id\": \"myuniqueid001\"}\n",
        "    },\n",
        "    )[\"answer\"]\n",
        "    print(res)\n"
      ],
      "metadata": {
        "id": "8qNZBdMruzP6",
        "outputId": "edde5aa8-2de5-40f5-e063-89c8c24073f7",
        "colab": {
          "base_uri": "https://localhost:8080/"
        }
      },
      "execution_count": null,
      "outputs": [
        {
          "output_type": "stream",
          "name": "stdout",
          "text": [
            "Enter 'q' to quit or anything else to continue: Can you recommand books\n",
            "Certainly! Here are some book recommendations from various genres:\n",
            "\n",
            "1. Fiction:\n",
            "- \"To Kill a Mockingbird\" by Harper Lee\n",
            "- \"1984\" by George Orwell\n",
            "- \"Pride and Prejudice\" by Jane Austen\n",
            "- \"The Great Gatsby\" by F. Scott Fitzgerald\n",
            "- \"The Catcher in the Rye\" by J.D. Salinger\n",
            "\n",
            "2. Mystery/Thriller:\n",
            "- \"Gone Girl\" by Gillian Flynn\n",
            "- \"The Girl with the Dragon Tattoo\" by Stieg Larsson\n",
            "- \"The Da Vinci Code\" by Dan Brown\n",
            "- \"The Girl on the Train\" by Paula Hawkins\n",
            "- \"And Then There Were None\" by Agatha Christie\n",
            "\n",
            "3. Science Fiction/Fantasy:\n",
            "- \"Dune\" by Frank Herbert\n",
            "- \"The Hobbit\" by J.R.R. Tolkien\n",
            "- \"Ender's Game\" by Orson Scott Card\n",
            "- \"The Hunger Games\" by Suzanne Collins\n",
            "- \"A Wrinkle in Time\" by Madeleine L'Engle\n",
            "\n",
            "4. Non-Fiction:\n",
            "- \"Sapiens: A Brief History of Humankind\" by Yuval Noah Harari\n",
            "- \"Becoming\" by Michelle Obama\n",
            "- \"The Immortal Life of Henrietta Lacks\" by Rebecca Skloot\n",
            "- \"Educated\" by Tara Westover\n",
            "- \"The Power of Now\" by Eckhart Tolle\n",
            "\n",
            "5. Historical Fiction:\n",
            "- \"The Book Thief\" by Markus Zusak\n",
            "- \"All the Light We Cannot See\" by Anthony Doerr\n",
            "- \"The Pillars of the Earth\" by Ken Follett\n",
            "- \"The Kite Runner\" by Khaled Hosseini\n",
            "- \"The Help\" by Kathryn Stockett\n",
            "\n",
            "These are just a few recommendations, and there are countless great books out there. Happy reading!\n"
          ]
        }
      ]
    }
  ],
  "metadata": {
    "colab": {
      "provenance": []
    },
    "kernelspec": {
      "display_name": "Python 3",
      "name": "python3"
    }
  },
  "nbformat": 4,
  "nbformat_minor": 0
}